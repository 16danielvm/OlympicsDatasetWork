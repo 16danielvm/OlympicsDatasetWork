{
    "cells": [
        {
            "cell_type": "markdown",
            "source": [
                "# Explorando y validando el dataset de los olimpicos"
            ],
            "metadata": {}
        },
        {
            "cell_type": "markdown",
            "source": [
                "Importando librerìas"
            ],
            "metadata": {}
        },
        {
            "cell_type": "code",
            "execution_count": 1,
            "source": [
                "import pandas as pd\r\n",
                "import numpy as np\r\n",
                "import matplotlib.pyplot as plt\r\n"
            ],
            "outputs": [],
            "metadata": {}
        },
        {
            "cell_type": "markdown",
            "source": [
                "Leemos el dataset"
            ],
            "metadata": {}
        },
        {
            "cell_type": "code",
            "execution_count": 2,
            "source": [
                "df = pd.read_csv('1 - Olympics_without_validating.csv')\r\n",
                "df.head()"
            ],
            "outputs": [
                {
                    "output_type": "execute_result",
                    "data": {
                        "text/plain": [
                            "                   0         1     2     3     4      5         6     7     8  \\\n",
                            "0                NaN  № Summer  01 !  02 !  03 !  Total  № Winter  01 !  02 !   \n",
                            "1  Afghanistan (AFG)        13     0     0     2      2         0     0     0   \n",
                            "2      Algeria (ALG)        12     5     2     8     15         3     0     0   \n",
                            "3    Argentina (ARG)        23    18    24    28     70        18     0     0   \n",
                            "4      Armenia (ARM)         5     1     2     9     12         6     0     0   \n",
                            "\n",
                            "      9     10       11    12    13    14              15  \n",
                            "0  03 !  Total  № Games  01 !  02 !  03 !  Combined total  \n",
                            "1     0      0       13     0     0     2               2  \n",
                            "2     0      0       15     5     2     8              15  \n",
                            "3     0      0       41    18    24    28              70  \n",
                            "4     0      0       11     1     2     9              12  "
                        ],
                        "text/html": [
                            "<div>\n",
                            "<style scoped>\n",
                            "    .dataframe tbody tr th:only-of-type {\n",
                            "        vertical-align: middle;\n",
                            "    }\n",
                            "\n",
                            "    .dataframe tbody tr th {\n",
                            "        vertical-align: top;\n",
                            "    }\n",
                            "\n",
                            "    .dataframe thead th {\n",
                            "        text-align: right;\n",
                            "    }\n",
                            "</style>\n",
                            "<table border=\"1\" class=\"dataframe\">\n",
                            "  <thead>\n",
                            "    <tr style=\"text-align: right;\">\n",
                            "      <th></th>\n",
                            "      <th>0</th>\n",
                            "      <th>1</th>\n",
                            "      <th>2</th>\n",
                            "      <th>3</th>\n",
                            "      <th>4</th>\n",
                            "      <th>5</th>\n",
                            "      <th>6</th>\n",
                            "      <th>7</th>\n",
                            "      <th>8</th>\n",
                            "      <th>9</th>\n",
                            "      <th>10</th>\n",
                            "      <th>11</th>\n",
                            "      <th>12</th>\n",
                            "      <th>13</th>\n",
                            "      <th>14</th>\n",
                            "      <th>15</th>\n",
                            "    </tr>\n",
                            "  </thead>\n",
                            "  <tbody>\n",
                            "    <tr>\n",
                            "      <th>0</th>\n",
                            "      <td>NaN</td>\n",
                            "      <td>№ Summer</td>\n",
                            "      <td>01 !</td>\n",
                            "      <td>02 !</td>\n",
                            "      <td>03 !</td>\n",
                            "      <td>Total</td>\n",
                            "      <td>№ Winter</td>\n",
                            "      <td>01 !</td>\n",
                            "      <td>02 !</td>\n",
                            "      <td>03 !</td>\n",
                            "      <td>Total</td>\n",
                            "      <td>№ Games</td>\n",
                            "      <td>01 !</td>\n",
                            "      <td>02 !</td>\n",
                            "      <td>03 !</td>\n",
                            "      <td>Combined total</td>\n",
                            "    </tr>\n",
                            "    <tr>\n",
                            "      <th>1</th>\n",
                            "      <td>Afghanistan (AFG)</td>\n",
                            "      <td>13</td>\n",
                            "      <td>0</td>\n",
                            "      <td>0</td>\n",
                            "      <td>2</td>\n",
                            "      <td>2</td>\n",
                            "      <td>0</td>\n",
                            "      <td>0</td>\n",
                            "      <td>0</td>\n",
                            "      <td>0</td>\n",
                            "      <td>0</td>\n",
                            "      <td>13</td>\n",
                            "      <td>0</td>\n",
                            "      <td>0</td>\n",
                            "      <td>2</td>\n",
                            "      <td>2</td>\n",
                            "    </tr>\n",
                            "    <tr>\n",
                            "      <th>2</th>\n",
                            "      <td>Algeria (ALG)</td>\n",
                            "      <td>12</td>\n",
                            "      <td>5</td>\n",
                            "      <td>2</td>\n",
                            "      <td>8</td>\n",
                            "      <td>15</td>\n",
                            "      <td>3</td>\n",
                            "      <td>0</td>\n",
                            "      <td>0</td>\n",
                            "      <td>0</td>\n",
                            "      <td>0</td>\n",
                            "      <td>15</td>\n",
                            "      <td>5</td>\n",
                            "      <td>2</td>\n",
                            "      <td>8</td>\n",
                            "      <td>15</td>\n",
                            "    </tr>\n",
                            "    <tr>\n",
                            "      <th>3</th>\n",
                            "      <td>Argentina (ARG)</td>\n",
                            "      <td>23</td>\n",
                            "      <td>18</td>\n",
                            "      <td>24</td>\n",
                            "      <td>28</td>\n",
                            "      <td>70</td>\n",
                            "      <td>18</td>\n",
                            "      <td>0</td>\n",
                            "      <td>0</td>\n",
                            "      <td>0</td>\n",
                            "      <td>0</td>\n",
                            "      <td>41</td>\n",
                            "      <td>18</td>\n",
                            "      <td>24</td>\n",
                            "      <td>28</td>\n",
                            "      <td>70</td>\n",
                            "    </tr>\n",
                            "    <tr>\n",
                            "      <th>4</th>\n",
                            "      <td>Armenia (ARM)</td>\n",
                            "      <td>5</td>\n",
                            "      <td>1</td>\n",
                            "      <td>2</td>\n",
                            "      <td>9</td>\n",
                            "      <td>12</td>\n",
                            "      <td>6</td>\n",
                            "      <td>0</td>\n",
                            "      <td>0</td>\n",
                            "      <td>0</td>\n",
                            "      <td>0</td>\n",
                            "      <td>11</td>\n",
                            "      <td>1</td>\n",
                            "      <td>2</td>\n",
                            "      <td>9</td>\n",
                            "      <td>12</td>\n",
                            "    </tr>\n",
                            "  </tbody>\n",
                            "</table>\n",
                            "</div>"
                        ]
                    },
                    "metadata": {},
                    "execution_count": 2
                }
            ],
            "metadata": {}
        },
        {
            "cell_type": "markdown",
            "source": [
                "Con el metodo .info() se muestra:\r\n",
                "- Cantidad de finals.\r\n",
                "- Cantidad de columnas.\r\n",
                "- Cada columna si posee datos faltantes.\r\n",
                "- El tipo de dato de cada columna"
            ],
            "metadata": {}
        },
        {
            "cell_type": "code",
            "execution_count": 3,
            "source": [
                "df.info()"
            ],
            "outputs": [
                {
                    "output_type": "stream",
                    "name": "stdout",
                    "text": [
                        "<class 'pandas.core.frame.DataFrame'>\n",
                        "RangeIndex: 148 entries, 0 to 147\n",
                        "Data columns (total 16 columns):\n",
                        " #   Column  Non-Null Count  Dtype \n",
                        "---  ------  --------------  ----- \n",
                        " 0   0       147 non-null    object\n",
                        " 1   1       148 non-null    object\n",
                        " 2   2       148 non-null    object\n",
                        " 3   3       148 non-null    object\n",
                        " 4   4       148 non-null    object\n",
                        " 5   5       148 non-null    object\n",
                        " 6   6       148 non-null    object\n",
                        " 7   7       148 non-null    object\n",
                        " 8   8       148 non-null    object\n",
                        " 9   9       148 non-null    object\n",
                        " 10  10      148 non-null    object\n",
                        " 11  11      148 non-null    object\n",
                        " 12  12      148 non-null    object\n",
                        " 13  13      148 non-null    object\n",
                        " 14  14      148 non-null    object\n",
                        " 15  15      148 non-null    object\n",
                        "dtypes: object(16)\n",
                        "memory usage: 18.6+ KB\n"
                    ]
                }
            ],
            "metadata": {}
        },
        {
            "cell_type": "markdown",
            "source": [
                "Vemos el nombre de cada columna del dataframe"
            ],
            "metadata": {}
        },
        {
            "cell_type": "code",
            "execution_count": 4,
            "source": [
                "df.columns"
            ],
            "outputs": [
                {
                    "output_type": "execute_result",
                    "data": {
                        "text/plain": [
                            "Index(['0', '1', '2', '3', '4', '5', '6', '7', '8', '9', '10', '11', '12',\n",
                            "       '13', '14', '15'],\n",
                            "      dtype='object')"
                        ]
                    },
                    "metadata": {},
                    "execution_count": 4
                }
            ],
            "metadata": {}
        },
        {
            "cell_type": "markdown",
            "source": [
                "Se crea un dataframe prueba a partir del dataframe creado por el dataset importado, para realizar cambios y evitar dañar el dataset."
            ],
            "metadata": {}
        },
        {
            "cell_type": "code",
            "execution_count": 5,
            "source": [
                "dfprueba = pd.DataFrame(df)"
            ],
            "outputs": [],
            "metadata": {}
        },
        {
            "cell_type": "markdown",
            "source": [
                "Como se ve en el dataframe, la fila numero 0 contiene el nombre de las columnas pero se muestra como un dato mas del dataframe"
            ],
            "metadata": {}
        },
        {
            "cell_type": "code",
            "execution_count": 6,
            "source": [
                "dfprueba.loc[0]"
            ],
            "outputs": [
                {
                    "output_type": "execute_result",
                    "data": {
                        "text/plain": [
                            "0                NaN\n",
                            "1           № Summer\n",
                            "2               01 !\n",
                            "3               02 !\n",
                            "4               03 !\n",
                            "5              Total\n",
                            "6           № Winter\n",
                            "7               01 !\n",
                            "8               02 !\n",
                            "9               03 !\n",
                            "10             Total\n",
                            "11           № Games\n",
                            "12              01 !\n",
                            "13              02 !\n",
                            "14              03 !\n",
                            "15    Combined total\n",
                            "Name: 0, dtype: object"
                        ]
                    },
                    "metadata": {},
                    "execution_count": 6
                }
            ],
            "metadata": {}
        },
        {
            "cell_type": "markdown",
            "source": [
                "Por lo anterior, dicha fila que contiene los titulos de las columnas se establecen como las columnas del dataframe."
            ],
            "metadata": {}
        },
        {
            "cell_type": "code",
            "execution_count": 7,
            "source": [
                "dfprueba.columns = dfprueba.loc[0]"
            ],
            "outputs": [],
            "metadata": {}
        },
        {
            "cell_type": "markdown",
            "source": [
                "Al momento de establecer dicha fila como los titulos de las columnas, procedemos a eliminarla."
            ],
            "metadata": {}
        },
        {
            "cell_type": "code",
            "execution_count": 8,
            "source": [
                "dfprueba.drop(0, axis=0, inplace=True)"
            ],
            "outputs": [],
            "metadata": {}
        },
        {
            "cell_type": "markdown",
            "source": [
                "Con el metodo .reset_index() establecemos de nuevo el dataset ya que al borrar la fila 0, el dataset empieza desde el indice 1, lo reestablecemos para empezar de 0 de nuevo."
            ],
            "metadata": {}
        },
        {
            "cell_type": "code",
            "execution_count": 9,
            "source": [
                "dfprueba.reset_index(inplace=True)"
            ],
            "outputs": [],
            "metadata": {}
        },
        {
            "cell_type": "markdown",
            "source": [
                "Al reestablecer el indice, se crea una nueva columna llamada index (la cual empieza desde el indice 1), por lo que se procede a eliminarla."
            ],
            "metadata": {}
        },
        {
            "cell_type": "code",
            "execution_count": 10,
            "source": [
                "dfprueba.drop('index', axis=1, inplace=True)"
            ],
            "outputs": [],
            "metadata": {}
        },
        {
            "cell_type": "markdown",
            "source": [
                "Se establecen nuevos nombres para las columnas y asi poder entender mejor el dataframe."
            ],
            "metadata": {}
        },
        {
            "cell_type": "code",
            "execution_count": 15,
            "source": [
                "dfprueba.columns = ['Pais','N_Summer','Gold_Summer','Silver_Summer','Bronze_Summer','Total_Summer','N_Winter','Gold_Winter','Silver_Winter','Bronze_Winter','Total_Winter','N_Games','Gold_Total','Silver_Total','Bronze_Total','Combined total']"
            ],
            "outputs": [],
            "metadata": {}
        },
        {
            "cell_type": "code",
            "execution_count": 16,
            "source": [
                "dfprueba.head()"
            ],
            "outputs": [
                {
                    "output_type": "execute_result",
                    "data": {
                        "text/plain": [
                            "                      Pais N_Summer Gold_Summer Silver_Summer Bronze_Summer  \\\n",
                            "0        Afghanistan (AFG)       13           0             0             2   \n",
                            "1            Algeria (ALG)       12           5             2             8   \n",
                            "2          Argentina (ARG)       23          18            24            28   \n",
                            "3            Armenia (ARM)        5           1             2             9   \n",
                            "4  Australasia (ANZ) [ANZ]        2           3             4             5   \n",
                            "\n",
                            "  Total_Summer N_Winter Gold_Winter Silver_Winter Bronze_Winter Total_Winter  \\\n",
                            "0            2        0           0             0             0            0   \n",
                            "1           15        3           0             0             0            0   \n",
                            "2           70       18           0             0             0            0   \n",
                            "3           12        6           0             0             0            0   \n",
                            "4           12        0           0             0             0            0   \n",
                            "\n",
                            "  N_Games Gold_Total Silver_Total Bronze_Total Combined total  \n",
                            "0      13          0            0            2              2  \n",
                            "1      15          5            2            8             15  \n",
                            "2      41         18           24           28             70  \n",
                            "3      11          1            2            9             12  \n",
                            "4       2          3            4            5             12  "
                        ],
                        "text/html": [
                            "<div>\n",
                            "<style scoped>\n",
                            "    .dataframe tbody tr th:only-of-type {\n",
                            "        vertical-align: middle;\n",
                            "    }\n",
                            "\n",
                            "    .dataframe tbody tr th {\n",
                            "        vertical-align: top;\n",
                            "    }\n",
                            "\n",
                            "    .dataframe thead th {\n",
                            "        text-align: right;\n",
                            "    }\n",
                            "</style>\n",
                            "<table border=\"1\" class=\"dataframe\">\n",
                            "  <thead>\n",
                            "    <tr style=\"text-align: right;\">\n",
                            "      <th></th>\n",
                            "      <th>Pais</th>\n",
                            "      <th>N_Summer</th>\n",
                            "      <th>Gold_Summer</th>\n",
                            "      <th>Silver_Summer</th>\n",
                            "      <th>Bronze_Summer</th>\n",
                            "      <th>Total_Summer</th>\n",
                            "      <th>N_Winter</th>\n",
                            "      <th>Gold_Winter</th>\n",
                            "      <th>Silver_Winter</th>\n",
                            "      <th>Bronze_Winter</th>\n",
                            "      <th>Total_Winter</th>\n",
                            "      <th>N_Games</th>\n",
                            "      <th>Gold_Total</th>\n",
                            "      <th>Silver_Total</th>\n",
                            "      <th>Bronze_Total</th>\n",
                            "      <th>Combined total</th>\n",
                            "    </tr>\n",
                            "  </thead>\n",
                            "  <tbody>\n",
                            "    <tr>\n",
                            "      <th>0</th>\n",
                            "      <td>Afghanistan (AFG)</td>\n",
                            "      <td>13</td>\n",
                            "      <td>0</td>\n",
                            "      <td>0</td>\n",
                            "      <td>2</td>\n",
                            "      <td>2</td>\n",
                            "      <td>0</td>\n",
                            "      <td>0</td>\n",
                            "      <td>0</td>\n",
                            "      <td>0</td>\n",
                            "      <td>0</td>\n",
                            "      <td>13</td>\n",
                            "      <td>0</td>\n",
                            "      <td>0</td>\n",
                            "      <td>2</td>\n",
                            "      <td>2</td>\n",
                            "    </tr>\n",
                            "    <tr>\n",
                            "      <th>1</th>\n",
                            "      <td>Algeria (ALG)</td>\n",
                            "      <td>12</td>\n",
                            "      <td>5</td>\n",
                            "      <td>2</td>\n",
                            "      <td>8</td>\n",
                            "      <td>15</td>\n",
                            "      <td>3</td>\n",
                            "      <td>0</td>\n",
                            "      <td>0</td>\n",
                            "      <td>0</td>\n",
                            "      <td>0</td>\n",
                            "      <td>15</td>\n",
                            "      <td>5</td>\n",
                            "      <td>2</td>\n",
                            "      <td>8</td>\n",
                            "      <td>15</td>\n",
                            "    </tr>\n",
                            "    <tr>\n",
                            "      <th>2</th>\n",
                            "      <td>Argentina (ARG)</td>\n",
                            "      <td>23</td>\n",
                            "      <td>18</td>\n",
                            "      <td>24</td>\n",
                            "      <td>28</td>\n",
                            "      <td>70</td>\n",
                            "      <td>18</td>\n",
                            "      <td>0</td>\n",
                            "      <td>0</td>\n",
                            "      <td>0</td>\n",
                            "      <td>0</td>\n",
                            "      <td>41</td>\n",
                            "      <td>18</td>\n",
                            "      <td>24</td>\n",
                            "      <td>28</td>\n",
                            "      <td>70</td>\n",
                            "    </tr>\n",
                            "    <tr>\n",
                            "      <th>3</th>\n",
                            "      <td>Armenia (ARM)</td>\n",
                            "      <td>5</td>\n",
                            "      <td>1</td>\n",
                            "      <td>2</td>\n",
                            "      <td>9</td>\n",
                            "      <td>12</td>\n",
                            "      <td>6</td>\n",
                            "      <td>0</td>\n",
                            "      <td>0</td>\n",
                            "      <td>0</td>\n",
                            "      <td>0</td>\n",
                            "      <td>11</td>\n",
                            "      <td>1</td>\n",
                            "      <td>2</td>\n",
                            "      <td>9</td>\n",
                            "      <td>12</td>\n",
                            "    </tr>\n",
                            "    <tr>\n",
                            "      <th>4</th>\n",
                            "      <td>Australasia (ANZ) [ANZ]</td>\n",
                            "      <td>2</td>\n",
                            "      <td>3</td>\n",
                            "      <td>4</td>\n",
                            "      <td>5</td>\n",
                            "      <td>12</td>\n",
                            "      <td>0</td>\n",
                            "      <td>0</td>\n",
                            "      <td>0</td>\n",
                            "      <td>0</td>\n",
                            "      <td>0</td>\n",
                            "      <td>2</td>\n",
                            "      <td>3</td>\n",
                            "      <td>4</td>\n",
                            "      <td>5</td>\n",
                            "      <td>12</td>\n",
                            "    </tr>\n",
                            "  </tbody>\n",
                            "</table>\n",
                            "</div>"
                        ]
                    },
                    "metadata": {},
                    "execution_count": 16
                }
            ],
            "metadata": {}
        },
        {
            "cell_type": "markdown",
            "source": [
                "Se observa la columna 'Pais' la cual se pretende separar el nombre del pais y su codigo."
            ],
            "metadata": {}
        },
        {
            "cell_type": "code",
            "execution_count": 17,
            "source": [
                "dfprueba['Pais']"
            ],
            "outputs": [
                {
                    "output_type": "execute_result",
                    "data": {
                        "text/plain": [
                            "0                                 Afghanistan (AFG)\n",
                            "1                                     Algeria (ALG)\n",
                            "2                                   Argentina (ARG)\n",
                            "3                                     Armenia (ARM)\n",
                            "4                           Australasia (ANZ) [ANZ]\n",
                            "                           ...                     \n",
                            "142    Independent Olympic Participants (IOP) [IOP]\n",
                            "143                              Zambia (ZAM) [ZAM]\n",
                            "144                            Zimbabwe (ZIM) [ZIM]\n",
                            "145                          Mixed team (ZZX) [ZZX]\n",
                            "146                                          Totals\n",
                            "Name: Pais, Length: 147, dtype: object"
                        ]
                    },
                    "metadata": {},
                    "execution_count": 17
                }
            ],
            "metadata": {}
        },
        {
            "cell_type": "markdown",
            "source": [
                "Se crea una lista 'Codigo' la cual contiene una lista de los paises y el codigo divididos"
            ],
            "metadata": {}
        },
        {
            "cell_type": "code",
            "execution_count": 18,
            "source": [
                "Codigo = []\r\n",
                "Codigo= dfprueba['Pais'].str.split('(')"
            ],
            "outputs": [],
            "metadata": {}
        },
        {
            "cell_type": "code",
            "execution_count": 19,
            "source": [
                "Codigo= list(Codigo)\r\n"
            ],
            "outputs": [],
            "metadata": {}
        },
        {
            "cell_type": "markdown",
            "source": [
                "Se elimina el ultimo dato de la lista 'Codigo'."
            ],
            "metadata": {}
        },
        {
            "cell_type": "code",
            "execution_count": 20,
            "source": [
                "Codigo.pop()\r\n"
            ],
            "outputs": [
                {
                    "output_type": "execute_result",
                    "data": {
                        "text/plain": [
                            "['Totals']"
                        ]
                    },
                    "metadata": {},
                    "execution_count": 20
                }
            ],
            "metadata": {}
        },
        {
            "cell_type": "markdown",
            "source": [
                "Y se agrega '(' un parentesis por cuestion de mejor visualizacion y se agrega a una lista nueva llamada 'codigo'."
            ],
            "metadata": {}
        },
        {
            "cell_type": "code",
            "execution_count": 21,
            "source": [
                "codigo= []\r\n",
                "for cod in Codigo:\r\n",
                "    cod1 = ('('+ cod[1])\r\n",
                "    codigo.append(cod1)"
            ],
            "outputs": [],
            "metadata": {}
        },
        {
            "cell_type": "markdown",
            "source": [
                "Finalmente se agrega la palabra 'WORLD' para igualar la cantidad de filas que contiene la lista y el dataframe y se crea la columna 'Codigo'."
            ],
            "metadata": {}
        },
        {
            "cell_type": "code",
            "execution_count": 22,
            "source": [
                "codigo.append('WORLD')\r\n",
                "dfprueba['Codigo'] = codigo "
            ],
            "outputs": [],
            "metadata": {}
        },
        {
            "cell_type": "code",
            "execution_count": 23,
            "source": [
                "dfprueba"
            ],
            "outputs": [
                {
                    "output_type": "execute_result",
                    "data": {
                        "text/plain": [
                            "                                             Pais N_Summer Gold_Summer  \\\n",
                            "0                               Afghanistan (AFG)       13           0   \n",
                            "1                                   Algeria (ALG)       12           5   \n",
                            "2                                 Argentina (ARG)       23          18   \n",
                            "3                                   Armenia (ARM)        5           1   \n",
                            "4                         Australasia (ANZ) [ANZ]        2           3   \n",
                            "..                                            ...      ...         ...   \n",
                            "142  Independent Olympic Participants (IOP) [IOP]        1           0   \n",
                            "143                            Zambia (ZAM) [ZAM]       12           0   \n",
                            "144                          Zimbabwe (ZIM) [ZIM]       12           3   \n",
                            "145                        Mixed team (ZZX) [ZZX]        3           8   \n",
                            "146                                        Totals       27        4809   \n",
                            "\n",
                            "    Silver_Summer Bronze_Summer Total_Summer N_Winter Gold_Winter  \\\n",
                            "0               0             2            2        0           0   \n",
                            "1               2             8           15        3           0   \n",
                            "2              24            28           70       18           0   \n",
                            "3               2             9           12        6           0   \n",
                            "4               4             5           12        0           0   \n",
                            "..            ...           ...          ...      ...         ...   \n",
                            "142             1             2            3        0           0   \n",
                            "143             1             1            2        0           0   \n",
                            "144             4             1            8        1           0   \n",
                            "145             5             4           17        0           0   \n",
                            "146          4775          5130        14714       22         959   \n",
                            "\n",
                            "    Silver_Winter Bronze_Winter Total_Winter N_Games Gold_Total Silver_Total  \\\n",
                            "0               0             0            0      13          0            0   \n",
                            "1               0             0            0      15          5            2   \n",
                            "2               0             0            0      41         18           24   \n",
                            "3               0             0            0      11          1            2   \n",
                            "4               0             0            0       2          3            4   \n",
                            "..            ...           ...          ...     ...        ...          ...   \n",
                            "142             0             0            0       1          0            1   \n",
                            "143             0             0            0      12          0            1   \n",
                            "144             0             0            0      13          3            4   \n",
                            "145             0             0            0       3          8            5   \n",
                            "146           958           948         2865      49       5768         5733   \n",
                            "\n",
                            "    Bronze_Total Combined total       Codigo  \n",
                            "0              2              2        (AFG)  \n",
                            "1              8             15        (ALG)  \n",
                            "2             28             70        (ARG)  \n",
                            "3              9             12        (ARM)  \n",
                            "4              5             12  (ANZ) [ANZ]  \n",
                            "..           ...            ...          ...  \n",
                            "142            2              3  (IOP) [IOP]  \n",
                            "143            1              2  (ZAM) [ZAM]  \n",
                            "144            1              8  (ZIM) [ZIM]  \n",
                            "145            4             17  (ZZX) [ZZX]  \n",
                            "146         6078          17579        WORLD  \n",
                            "\n",
                            "[147 rows x 17 columns]"
                        ],
                        "text/html": [
                            "<div>\n",
                            "<style scoped>\n",
                            "    .dataframe tbody tr th:only-of-type {\n",
                            "        vertical-align: middle;\n",
                            "    }\n",
                            "\n",
                            "    .dataframe tbody tr th {\n",
                            "        vertical-align: top;\n",
                            "    }\n",
                            "\n",
                            "    .dataframe thead th {\n",
                            "        text-align: right;\n",
                            "    }\n",
                            "</style>\n",
                            "<table border=\"1\" class=\"dataframe\">\n",
                            "  <thead>\n",
                            "    <tr style=\"text-align: right;\">\n",
                            "      <th></th>\n",
                            "      <th>Pais</th>\n",
                            "      <th>N_Summer</th>\n",
                            "      <th>Gold_Summer</th>\n",
                            "      <th>Silver_Summer</th>\n",
                            "      <th>Bronze_Summer</th>\n",
                            "      <th>Total_Summer</th>\n",
                            "      <th>N_Winter</th>\n",
                            "      <th>Gold_Winter</th>\n",
                            "      <th>Silver_Winter</th>\n",
                            "      <th>Bronze_Winter</th>\n",
                            "      <th>Total_Winter</th>\n",
                            "      <th>N_Games</th>\n",
                            "      <th>Gold_Total</th>\n",
                            "      <th>Silver_Total</th>\n",
                            "      <th>Bronze_Total</th>\n",
                            "      <th>Combined total</th>\n",
                            "      <th>Codigo</th>\n",
                            "    </tr>\n",
                            "  </thead>\n",
                            "  <tbody>\n",
                            "    <tr>\n",
                            "      <th>0</th>\n",
                            "      <td>Afghanistan (AFG)</td>\n",
                            "      <td>13</td>\n",
                            "      <td>0</td>\n",
                            "      <td>0</td>\n",
                            "      <td>2</td>\n",
                            "      <td>2</td>\n",
                            "      <td>0</td>\n",
                            "      <td>0</td>\n",
                            "      <td>0</td>\n",
                            "      <td>0</td>\n",
                            "      <td>0</td>\n",
                            "      <td>13</td>\n",
                            "      <td>0</td>\n",
                            "      <td>0</td>\n",
                            "      <td>2</td>\n",
                            "      <td>2</td>\n",
                            "      <td>(AFG)</td>\n",
                            "    </tr>\n",
                            "    <tr>\n",
                            "      <th>1</th>\n",
                            "      <td>Algeria (ALG)</td>\n",
                            "      <td>12</td>\n",
                            "      <td>5</td>\n",
                            "      <td>2</td>\n",
                            "      <td>8</td>\n",
                            "      <td>15</td>\n",
                            "      <td>3</td>\n",
                            "      <td>0</td>\n",
                            "      <td>0</td>\n",
                            "      <td>0</td>\n",
                            "      <td>0</td>\n",
                            "      <td>15</td>\n",
                            "      <td>5</td>\n",
                            "      <td>2</td>\n",
                            "      <td>8</td>\n",
                            "      <td>15</td>\n",
                            "      <td>(ALG)</td>\n",
                            "    </tr>\n",
                            "    <tr>\n",
                            "      <th>2</th>\n",
                            "      <td>Argentina (ARG)</td>\n",
                            "      <td>23</td>\n",
                            "      <td>18</td>\n",
                            "      <td>24</td>\n",
                            "      <td>28</td>\n",
                            "      <td>70</td>\n",
                            "      <td>18</td>\n",
                            "      <td>0</td>\n",
                            "      <td>0</td>\n",
                            "      <td>0</td>\n",
                            "      <td>0</td>\n",
                            "      <td>41</td>\n",
                            "      <td>18</td>\n",
                            "      <td>24</td>\n",
                            "      <td>28</td>\n",
                            "      <td>70</td>\n",
                            "      <td>(ARG)</td>\n",
                            "    </tr>\n",
                            "    <tr>\n",
                            "      <th>3</th>\n",
                            "      <td>Armenia (ARM)</td>\n",
                            "      <td>5</td>\n",
                            "      <td>1</td>\n",
                            "      <td>2</td>\n",
                            "      <td>9</td>\n",
                            "      <td>12</td>\n",
                            "      <td>6</td>\n",
                            "      <td>0</td>\n",
                            "      <td>0</td>\n",
                            "      <td>0</td>\n",
                            "      <td>0</td>\n",
                            "      <td>11</td>\n",
                            "      <td>1</td>\n",
                            "      <td>2</td>\n",
                            "      <td>9</td>\n",
                            "      <td>12</td>\n",
                            "      <td>(ARM)</td>\n",
                            "    </tr>\n",
                            "    <tr>\n",
                            "      <th>4</th>\n",
                            "      <td>Australasia (ANZ) [ANZ]</td>\n",
                            "      <td>2</td>\n",
                            "      <td>3</td>\n",
                            "      <td>4</td>\n",
                            "      <td>5</td>\n",
                            "      <td>12</td>\n",
                            "      <td>0</td>\n",
                            "      <td>0</td>\n",
                            "      <td>0</td>\n",
                            "      <td>0</td>\n",
                            "      <td>0</td>\n",
                            "      <td>2</td>\n",
                            "      <td>3</td>\n",
                            "      <td>4</td>\n",
                            "      <td>5</td>\n",
                            "      <td>12</td>\n",
                            "      <td>(ANZ) [ANZ]</td>\n",
                            "    </tr>\n",
                            "    <tr>\n",
                            "      <th>...</th>\n",
                            "      <td>...</td>\n",
                            "      <td>...</td>\n",
                            "      <td>...</td>\n",
                            "      <td>...</td>\n",
                            "      <td>...</td>\n",
                            "      <td>...</td>\n",
                            "      <td>...</td>\n",
                            "      <td>...</td>\n",
                            "      <td>...</td>\n",
                            "      <td>...</td>\n",
                            "      <td>...</td>\n",
                            "      <td>...</td>\n",
                            "      <td>...</td>\n",
                            "      <td>...</td>\n",
                            "      <td>...</td>\n",
                            "      <td>...</td>\n",
                            "      <td>...</td>\n",
                            "    </tr>\n",
                            "    <tr>\n",
                            "      <th>142</th>\n",
                            "      <td>Independent Olympic Participants (IOP) [IOP]</td>\n",
                            "      <td>1</td>\n",
                            "      <td>0</td>\n",
                            "      <td>1</td>\n",
                            "      <td>2</td>\n",
                            "      <td>3</td>\n",
                            "      <td>0</td>\n",
                            "      <td>0</td>\n",
                            "      <td>0</td>\n",
                            "      <td>0</td>\n",
                            "      <td>0</td>\n",
                            "      <td>1</td>\n",
                            "      <td>0</td>\n",
                            "      <td>1</td>\n",
                            "      <td>2</td>\n",
                            "      <td>3</td>\n",
                            "      <td>(IOP) [IOP]</td>\n",
                            "    </tr>\n",
                            "    <tr>\n",
                            "      <th>143</th>\n",
                            "      <td>Zambia (ZAM) [ZAM]</td>\n",
                            "      <td>12</td>\n",
                            "      <td>0</td>\n",
                            "      <td>1</td>\n",
                            "      <td>1</td>\n",
                            "      <td>2</td>\n",
                            "      <td>0</td>\n",
                            "      <td>0</td>\n",
                            "      <td>0</td>\n",
                            "      <td>0</td>\n",
                            "      <td>0</td>\n",
                            "      <td>12</td>\n",
                            "      <td>0</td>\n",
                            "      <td>1</td>\n",
                            "      <td>1</td>\n",
                            "      <td>2</td>\n",
                            "      <td>(ZAM) [ZAM]</td>\n",
                            "    </tr>\n",
                            "    <tr>\n",
                            "      <th>144</th>\n",
                            "      <td>Zimbabwe (ZIM) [ZIM]</td>\n",
                            "      <td>12</td>\n",
                            "      <td>3</td>\n",
                            "      <td>4</td>\n",
                            "      <td>1</td>\n",
                            "      <td>8</td>\n",
                            "      <td>1</td>\n",
                            "      <td>0</td>\n",
                            "      <td>0</td>\n",
                            "      <td>0</td>\n",
                            "      <td>0</td>\n",
                            "      <td>13</td>\n",
                            "      <td>3</td>\n",
                            "      <td>4</td>\n",
                            "      <td>1</td>\n",
                            "      <td>8</td>\n",
                            "      <td>(ZIM) [ZIM]</td>\n",
                            "    </tr>\n",
                            "    <tr>\n",
                            "      <th>145</th>\n",
                            "      <td>Mixed team (ZZX) [ZZX]</td>\n",
                            "      <td>3</td>\n",
                            "      <td>8</td>\n",
                            "      <td>5</td>\n",
                            "      <td>4</td>\n",
                            "      <td>17</td>\n",
                            "      <td>0</td>\n",
                            "      <td>0</td>\n",
                            "      <td>0</td>\n",
                            "      <td>0</td>\n",
                            "      <td>0</td>\n",
                            "      <td>3</td>\n",
                            "      <td>8</td>\n",
                            "      <td>5</td>\n",
                            "      <td>4</td>\n",
                            "      <td>17</td>\n",
                            "      <td>(ZZX) [ZZX]</td>\n",
                            "    </tr>\n",
                            "    <tr>\n",
                            "      <th>146</th>\n",
                            "      <td>Totals</td>\n",
                            "      <td>27</td>\n",
                            "      <td>4809</td>\n",
                            "      <td>4775</td>\n",
                            "      <td>5130</td>\n",
                            "      <td>14714</td>\n",
                            "      <td>22</td>\n",
                            "      <td>959</td>\n",
                            "      <td>958</td>\n",
                            "      <td>948</td>\n",
                            "      <td>2865</td>\n",
                            "      <td>49</td>\n",
                            "      <td>5768</td>\n",
                            "      <td>5733</td>\n",
                            "      <td>6078</td>\n",
                            "      <td>17579</td>\n",
                            "      <td>WORLD</td>\n",
                            "    </tr>\n",
                            "  </tbody>\n",
                            "</table>\n",
                            "<p>147 rows × 17 columns</p>\n",
                            "</div>"
                        ]
                    },
                    "metadata": {},
                    "execution_count": 23
                }
            ],
            "metadata": {}
        },
        {
            "cell_type": "markdown",
            "source": [
                "Ahora para actualizar la columna pais y que muestre solo el nombre del pais se recorre la lista Codigo y se agrega cada valor (nombre del pais - sin codigo) a una nueva lista 'pais1'."
            ],
            "metadata": {}
        },
        {
            "cell_type": "code",
            "execution_count": 24,
            "source": [
                "pais1= []\r\n",
                "for pais in Codigo:\r\n",
                "    pais1.append(pais[0])"
            ],
            "outputs": [],
            "metadata": {}
        },
        {
            "cell_type": "markdown",
            "source": [
                "Se agrega la palabra 'Totals' para igualar el numero de datos que contiene la lista y el dataframe."
            ],
            "metadata": {}
        },
        {
            "cell_type": "code",
            "execution_count": 25,
            "source": [
                "pais1.append('Totals')"
            ],
            "outputs": [],
            "metadata": {}
        },
        {
            "cell_type": "markdown",
            "source": [
                "Y se actualiza la columna pais, con los nombres de cada uno de los paises."
            ],
            "metadata": {}
        },
        {
            "cell_type": "code",
            "execution_count": 26,
            "source": [
                "dfprueba['Pais']= pais1"
            ],
            "outputs": [],
            "metadata": {}
        },
        {
            "cell_type": "code",
            "execution_count": 27,
            "source": [
                "dfprueba"
            ],
            "outputs": [
                {
                    "output_type": "execute_result",
                    "data": {
                        "text/plain": [
                            "                                  Pais N_Summer Gold_Summer Silver_Summer  \\\n",
                            "0                         Afghanistan        13           0             0   \n",
                            "1                             Algeria        12           5             2   \n",
                            "2                           Argentina        23          18            24   \n",
                            "3                             Armenia         5           1             2   \n",
                            "4                         Australasia         2           3             4   \n",
                            "..                                 ...      ...         ...           ...   \n",
                            "142  Independent Olympic Participants         1           0             1   \n",
                            "143                            Zambia        12           0             1   \n",
                            "144                          Zimbabwe        12           3             4   \n",
                            "145                        Mixed team         3           8             5   \n",
                            "146                             Totals       27        4809          4775   \n",
                            "\n",
                            "    Bronze_Summer Total_Summer N_Winter Gold_Winter Silver_Winter  \\\n",
                            "0               2            2        0           0             0   \n",
                            "1               8           15        3           0             0   \n",
                            "2              28           70       18           0             0   \n",
                            "3               9           12        6           0             0   \n",
                            "4               5           12        0           0             0   \n",
                            "..            ...          ...      ...         ...           ...   \n",
                            "142             2            3        0           0             0   \n",
                            "143             1            2        0           0             0   \n",
                            "144             1            8        1           0             0   \n",
                            "145             4           17        0           0             0   \n",
                            "146          5130        14714       22         959           958   \n",
                            "\n",
                            "    Bronze_Winter Total_Winter N_Games Gold_Total Silver_Total Bronze_Total  \\\n",
                            "0               0            0      13          0            0            2   \n",
                            "1               0            0      15          5            2            8   \n",
                            "2               0            0      41         18           24           28   \n",
                            "3               0            0      11          1            2            9   \n",
                            "4               0            0       2          3            4            5   \n",
                            "..            ...          ...     ...        ...          ...          ...   \n",
                            "142             0            0       1          0            1            2   \n",
                            "143             0            0      12          0            1            1   \n",
                            "144             0            0      13          3            4            1   \n",
                            "145             0            0       3          8            5            4   \n",
                            "146           948         2865      49       5768         5733         6078   \n",
                            "\n",
                            "    Combined total       Codigo  \n",
                            "0                2        (AFG)  \n",
                            "1               15        (ALG)  \n",
                            "2               70        (ARG)  \n",
                            "3               12        (ARM)  \n",
                            "4               12  (ANZ) [ANZ]  \n",
                            "..             ...          ...  \n",
                            "142              3  (IOP) [IOP]  \n",
                            "143              2  (ZAM) [ZAM]  \n",
                            "144              8  (ZIM) [ZIM]  \n",
                            "145             17  (ZZX) [ZZX]  \n",
                            "146          17579        WORLD  \n",
                            "\n",
                            "[147 rows x 17 columns]"
                        ],
                        "text/html": [
                            "<div>\n",
                            "<style scoped>\n",
                            "    .dataframe tbody tr th:only-of-type {\n",
                            "        vertical-align: middle;\n",
                            "    }\n",
                            "\n",
                            "    .dataframe tbody tr th {\n",
                            "        vertical-align: top;\n",
                            "    }\n",
                            "\n",
                            "    .dataframe thead th {\n",
                            "        text-align: right;\n",
                            "    }\n",
                            "</style>\n",
                            "<table border=\"1\" class=\"dataframe\">\n",
                            "  <thead>\n",
                            "    <tr style=\"text-align: right;\">\n",
                            "      <th></th>\n",
                            "      <th>Pais</th>\n",
                            "      <th>N_Summer</th>\n",
                            "      <th>Gold_Summer</th>\n",
                            "      <th>Silver_Summer</th>\n",
                            "      <th>Bronze_Summer</th>\n",
                            "      <th>Total_Summer</th>\n",
                            "      <th>N_Winter</th>\n",
                            "      <th>Gold_Winter</th>\n",
                            "      <th>Silver_Winter</th>\n",
                            "      <th>Bronze_Winter</th>\n",
                            "      <th>Total_Winter</th>\n",
                            "      <th>N_Games</th>\n",
                            "      <th>Gold_Total</th>\n",
                            "      <th>Silver_Total</th>\n",
                            "      <th>Bronze_Total</th>\n",
                            "      <th>Combined total</th>\n",
                            "      <th>Codigo</th>\n",
                            "    </tr>\n",
                            "  </thead>\n",
                            "  <tbody>\n",
                            "    <tr>\n",
                            "      <th>0</th>\n",
                            "      <td>Afghanistan</td>\n",
                            "      <td>13</td>\n",
                            "      <td>0</td>\n",
                            "      <td>0</td>\n",
                            "      <td>2</td>\n",
                            "      <td>2</td>\n",
                            "      <td>0</td>\n",
                            "      <td>0</td>\n",
                            "      <td>0</td>\n",
                            "      <td>0</td>\n",
                            "      <td>0</td>\n",
                            "      <td>13</td>\n",
                            "      <td>0</td>\n",
                            "      <td>0</td>\n",
                            "      <td>2</td>\n",
                            "      <td>2</td>\n",
                            "      <td>(AFG)</td>\n",
                            "    </tr>\n",
                            "    <tr>\n",
                            "      <th>1</th>\n",
                            "      <td>Algeria</td>\n",
                            "      <td>12</td>\n",
                            "      <td>5</td>\n",
                            "      <td>2</td>\n",
                            "      <td>8</td>\n",
                            "      <td>15</td>\n",
                            "      <td>3</td>\n",
                            "      <td>0</td>\n",
                            "      <td>0</td>\n",
                            "      <td>0</td>\n",
                            "      <td>0</td>\n",
                            "      <td>15</td>\n",
                            "      <td>5</td>\n",
                            "      <td>2</td>\n",
                            "      <td>8</td>\n",
                            "      <td>15</td>\n",
                            "      <td>(ALG)</td>\n",
                            "    </tr>\n",
                            "    <tr>\n",
                            "      <th>2</th>\n",
                            "      <td>Argentina</td>\n",
                            "      <td>23</td>\n",
                            "      <td>18</td>\n",
                            "      <td>24</td>\n",
                            "      <td>28</td>\n",
                            "      <td>70</td>\n",
                            "      <td>18</td>\n",
                            "      <td>0</td>\n",
                            "      <td>0</td>\n",
                            "      <td>0</td>\n",
                            "      <td>0</td>\n",
                            "      <td>41</td>\n",
                            "      <td>18</td>\n",
                            "      <td>24</td>\n",
                            "      <td>28</td>\n",
                            "      <td>70</td>\n",
                            "      <td>(ARG)</td>\n",
                            "    </tr>\n",
                            "    <tr>\n",
                            "      <th>3</th>\n",
                            "      <td>Armenia</td>\n",
                            "      <td>5</td>\n",
                            "      <td>1</td>\n",
                            "      <td>2</td>\n",
                            "      <td>9</td>\n",
                            "      <td>12</td>\n",
                            "      <td>6</td>\n",
                            "      <td>0</td>\n",
                            "      <td>0</td>\n",
                            "      <td>0</td>\n",
                            "      <td>0</td>\n",
                            "      <td>11</td>\n",
                            "      <td>1</td>\n",
                            "      <td>2</td>\n",
                            "      <td>9</td>\n",
                            "      <td>12</td>\n",
                            "      <td>(ARM)</td>\n",
                            "    </tr>\n",
                            "    <tr>\n",
                            "      <th>4</th>\n",
                            "      <td>Australasia</td>\n",
                            "      <td>2</td>\n",
                            "      <td>3</td>\n",
                            "      <td>4</td>\n",
                            "      <td>5</td>\n",
                            "      <td>12</td>\n",
                            "      <td>0</td>\n",
                            "      <td>0</td>\n",
                            "      <td>0</td>\n",
                            "      <td>0</td>\n",
                            "      <td>0</td>\n",
                            "      <td>2</td>\n",
                            "      <td>3</td>\n",
                            "      <td>4</td>\n",
                            "      <td>5</td>\n",
                            "      <td>12</td>\n",
                            "      <td>(ANZ) [ANZ]</td>\n",
                            "    </tr>\n",
                            "    <tr>\n",
                            "      <th>...</th>\n",
                            "      <td>...</td>\n",
                            "      <td>...</td>\n",
                            "      <td>...</td>\n",
                            "      <td>...</td>\n",
                            "      <td>...</td>\n",
                            "      <td>...</td>\n",
                            "      <td>...</td>\n",
                            "      <td>...</td>\n",
                            "      <td>...</td>\n",
                            "      <td>...</td>\n",
                            "      <td>...</td>\n",
                            "      <td>...</td>\n",
                            "      <td>...</td>\n",
                            "      <td>...</td>\n",
                            "      <td>...</td>\n",
                            "      <td>...</td>\n",
                            "      <td>...</td>\n",
                            "    </tr>\n",
                            "    <tr>\n",
                            "      <th>142</th>\n",
                            "      <td>Independent Olympic Participants</td>\n",
                            "      <td>1</td>\n",
                            "      <td>0</td>\n",
                            "      <td>1</td>\n",
                            "      <td>2</td>\n",
                            "      <td>3</td>\n",
                            "      <td>0</td>\n",
                            "      <td>0</td>\n",
                            "      <td>0</td>\n",
                            "      <td>0</td>\n",
                            "      <td>0</td>\n",
                            "      <td>1</td>\n",
                            "      <td>0</td>\n",
                            "      <td>1</td>\n",
                            "      <td>2</td>\n",
                            "      <td>3</td>\n",
                            "      <td>(IOP) [IOP]</td>\n",
                            "    </tr>\n",
                            "    <tr>\n",
                            "      <th>143</th>\n",
                            "      <td>Zambia</td>\n",
                            "      <td>12</td>\n",
                            "      <td>0</td>\n",
                            "      <td>1</td>\n",
                            "      <td>1</td>\n",
                            "      <td>2</td>\n",
                            "      <td>0</td>\n",
                            "      <td>0</td>\n",
                            "      <td>0</td>\n",
                            "      <td>0</td>\n",
                            "      <td>0</td>\n",
                            "      <td>12</td>\n",
                            "      <td>0</td>\n",
                            "      <td>1</td>\n",
                            "      <td>1</td>\n",
                            "      <td>2</td>\n",
                            "      <td>(ZAM) [ZAM]</td>\n",
                            "    </tr>\n",
                            "    <tr>\n",
                            "      <th>144</th>\n",
                            "      <td>Zimbabwe</td>\n",
                            "      <td>12</td>\n",
                            "      <td>3</td>\n",
                            "      <td>4</td>\n",
                            "      <td>1</td>\n",
                            "      <td>8</td>\n",
                            "      <td>1</td>\n",
                            "      <td>0</td>\n",
                            "      <td>0</td>\n",
                            "      <td>0</td>\n",
                            "      <td>0</td>\n",
                            "      <td>13</td>\n",
                            "      <td>3</td>\n",
                            "      <td>4</td>\n",
                            "      <td>1</td>\n",
                            "      <td>8</td>\n",
                            "      <td>(ZIM) [ZIM]</td>\n",
                            "    </tr>\n",
                            "    <tr>\n",
                            "      <th>145</th>\n",
                            "      <td>Mixed team</td>\n",
                            "      <td>3</td>\n",
                            "      <td>8</td>\n",
                            "      <td>5</td>\n",
                            "      <td>4</td>\n",
                            "      <td>17</td>\n",
                            "      <td>0</td>\n",
                            "      <td>0</td>\n",
                            "      <td>0</td>\n",
                            "      <td>0</td>\n",
                            "      <td>0</td>\n",
                            "      <td>3</td>\n",
                            "      <td>8</td>\n",
                            "      <td>5</td>\n",
                            "      <td>4</td>\n",
                            "      <td>17</td>\n",
                            "      <td>(ZZX) [ZZX]</td>\n",
                            "    </tr>\n",
                            "    <tr>\n",
                            "      <th>146</th>\n",
                            "      <td>Totals</td>\n",
                            "      <td>27</td>\n",
                            "      <td>4809</td>\n",
                            "      <td>4775</td>\n",
                            "      <td>5130</td>\n",
                            "      <td>14714</td>\n",
                            "      <td>22</td>\n",
                            "      <td>959</td>\n",
                            "      <td>958</td>\n",
                            "      <td>948</td>\n",
                            "      <td>2865</td>\n",
                            "      <td>49</td>\n",
                            "      <td>5768</td>\n",
                            "      <td>5733</td>\n",
                            "      <td>6078</td>\n",
                            "      <td>17579</td>\n",
                            "      <td>WORLD</td>\n",
                            "    </tr>\n",
                            "  </tbody>\n",
                            "</table>\n",
                            "<p>147 rows × 17 columns</p>\n",
                            "</div>"
                        ]
                    },
                    "metadata": {},
                    "execution_count": 27
                }
            ],
            "metadata": {}
        },
        {
            "cell_type": "markdown",
            "source": [
                "Ahora reordenamos las columnas del dataframe de la siguiente manera:"
            ],
            "metadata": {}
        },
        {
            "cell_type": "code",
            "execution_count": 28,
            "source": [
                "dfprueba = dfprueba[['Pais','Codigo', 'N_Summer', 'Gold_Summer', 'Silver_Summer', 'Bronze_Summer',\r\n",
                "       'Total_Summer', 'N_Winter', 'Gold_Winter', 'Silver_Winter',\r\n",
                "       'Bronze_Winter', 'Total_Winter', 'N_Games', 'Gold_Total',\r\n",
                "       'Silver_Total', 'Bronze_Total', 'Combined total']]"
            ],
            "outputs": [],
            "metadata": {}
        },
        {
            "cell_type": "markdown",
            "source": [
                "Y cambiamos el tipo de datos de las columnas que contienen numeros."
            ],
            "metadata": {}
        },
        {
            "cell_type": "code",
            "execution_count": 29,
            "source": [
                "dfprueba[['N_Summer', 'Gold_Summer', 'Silver_Summer', 'Bronze_Summer',\r\n",
                "       'Total_Summer', 'N_Winter', 'Gold_Winter', 'Silver_Winter',\r\n",
                "       'Bronze_Winter', 'Total_Winter', 'N_Games', 'Gold_Total',\r\n",
                "       'Silver_Total', 'Bronze_Total', 'Combined total']] = dfprueba[['N_Summer', 'Gold_Summer', 'Silver_Summer', 'Bronze_Summer',\r\n",
                "       'Total_Summer', 'N_Winter', 'Gold_Winter', 'Silver_Winter',\r\n",
                "       'Bronze_Winter', 'Total_Winter', 'N_Games', 'Gold_Total',\r\n",
                "       'Silver_Total', 'Bronze_Total', 'Combined total']].astype(int)"
            ],
            "outputs": [],
            "metadata": {}
        },
        {
            "cell_type": "markdown",
            "source": [
                "Corroboramos y efectivamente cambio el tipo de datos de las columnas que contiene datos numericos. Inicialmente todas las columnas del dataframe eran de tipo object."
            ],
            "metadata": {}
        },
        {
            "cell_type": "code",
            "execution_count": 30,
            "source": [
                "dfprueba.info()"
            ],
            "outputs": [
                {
                    "output_type": "stream",
                    "name": "stdout",
                    "text": [
                        "<class 'pandas.core.frame.DataFrame'>\n",
                        "RangeIndex: 147 entries, 0 to 146\n",
                        "Data columns (total 17 columns):\n",
                        " #   Column          Non-Null Count  Dtype \n",
                        "---  ------          --------------  ----- \n",
                        " 0   Pais            147 non-null    object\n",
                        " 1   Codigo          147 non-null    object\n",
                        " 2   N_Summer        147 non-null    int32 \n",
                        " 3   Gold_Summer     147 non-null    int32 \n",
                        " 4   Silver_Summer   147 non-null    int32 \n",
                        " 5   Bronze_Summer   147 non-null    int32 \n",
                        " 6   Total_Summer    147 non-null    int32 \n",
                        " 7   N_Winter        147 non-null    int32 \n",
                        " 8   Gold_Winter     147 non-null    int32 \n",
                        " 9   Silver_Winter   147 non-null    int32 \n",
                        " 10  Bronze_Winter   147 non-null    int32 \n",
                        " 11  Total_Winter    147 non-null    int32 \n",
                        " 12  N_Games         147 non-null    int32 \n",
                        " 13  Gold_Total      147 non-null    int32 \n",
                        " 14  Silver_Total    147 non-null    int32 \n",
                        " 15  Bronze_Total    147 non-null    int32 \n",
                        " 16  Combined total  147 non-null    int32 \n",
                        "dtypes: int32(15), object(2)\n",
                        "memory usage: 11.0+ KB\n"
                    ]
                }
            ],
            "metadata": {}
        },
        {
            "cell_type": "markdown",
            "source": [
                "Con el cambio en el tipo de datos procedemos a observar una descripcion estadistica del dataset donde muestra los siguientes datos en cada columna:\r\n",
                "- Numero de datos.\r\n",
                "- El promedio.\r\n",
                "- La desviacion estandar.\r\n",
                "- El valor minimo.\r\n",
                "- El valor del percentil 25.\r\n",
                "- El valor del percentil 50 (mediana).\r\n",
                "- El valor del percentil 75.\r\n",
                "- El valor maximo."
            ],
            "metadata": {}
        },
        {
            "cell_type": "code",
            "execution_count": 31,
            "source": [
                "dfprueba.loc[0:145].describe()"
            ],
            "outputs": [
                {
                    "output_type": "execute_result",
                    "data": {
                        "text/plain": [
                            "         N_Summer  Gold_Summer  Silver_Summer  Bronze_Summer  Total_Summer  \\\n",
                            "count  146.000000   146.000000     146.000000     146.000000    146.000000   \n",
                            "mean    13.383562    32.938356      32.705479      35.136986    100.780822   \n",
                            "std      7.006657    96.745184      80.648421      77.118416    252.700436   \n",
                            "min      1.000000     0.000000       0.000000       0.000000      0.000000   \n",
                            "25%      8.000000     0.000000       1.000000       1.000000      2.000000   \n",
                            "50%     13.000000     3.000000       4.000000       6.000000     12.000000   \n",
                            "75%     18.000000    23.000000      26.750000      28.750000     85.250000   \n",
                            "max     27.000000   976.000000     757.000000     666.000000   2399.000000   \n",
                            "\n",
                            "         N_Winter  Gold_Winter  Silver_Winter  Bronze_Winter  Total_Winter  \\\n",
                            "count  146.000000   146.000000     146.000000     146.000000    146.000000   \n",
                            "mean     6.595890     6.568493       6.561644       6.493151     19.623288   \n",
                            "std      7.349012    18.975086      18.606996      17.499654     54.640914   \n",
                            "min      0.000000     0.000000       0.000000       0.000000      0.000000   \n",
                            "25%      0.000000     0.000000       0.000000       0.000000      0.000000   \n",
                            "50%      5.000000     0.000000       0.000000       0.000000      0.000000   \n",
                            "75%     10.000000     0.750000       1.750000       1.000000      4.750000   \n",
                            "max     22.000000   118.000000     111.000000     100.000000    329.000000   \n",
                            "\n",
                            "          N_Games   Gold_Total  Silver_Total  Bronze_Total  Combined total  \n",
                            "count  146.000000   146.000000    146.000000    146.000000      146.000000  \n",
                            "mean    19.979452    39.506849     39.267123     41.630137      120.404110  \n",
                            "std     13.084062   109.932471     93.984393     89.826117      291.988913  \n",
                            "min      1.000000     0.000000      0.000000      0.000000        1.000000  \n",
                            "25%     11.000000     0.000000      1.000000      1.000000        2.250000  \n",
                            "50%     15.000000     3.000000      4.000000      6.500000       12.000000  \n",
                            "75%     26.000000    24.500000     28.000000     29.000000       87.750000  \n",
                            "max     49.000000  1072.000000    859.000000    750.000000     2681.000000  "
                        ],
                        "text/html": [
                            "<div>\n",
                            "<style scoped>\n",
                            "    .dataframe tbody tr th:only-of-type {\n",
                            "        vertical-align: middle;\n",
                            "    }\n",
                            "\n",
                            "    .dataframe tbody tr th {\n",
                            "        vertical-align: top;\n",
                            "    }\n",
                            "\n",
                            "    .dataframe thead th {\n",
                            "        text-align: right;\n",
                            "    }\n",
                            "</style>\n",
                            "<table border=\"1\" class=\"dataframe\">\n",
                            "  <thead>\n",
                            "    <tr style=\"text-align: right;\">\n",
                            "      <th></th>\n",
                            "      <th>N_Summer</th>\n",
                            "      <th>Gold_Summer</th>\n",
                            "      <th>Silver_Summer</th>\n",
                            "      <th>Bronze_Summer</th>\n",
                            "      <th>Total_Summer</th>\n",
                            "      <th>N_Winter</th>\n",
                            "      <th>Gold_Winter</th>\n",
                            "      <th>Silver_Winter</th>\n",
                            "      <th>Bronze_Winter</th>\n",
                            "      <th>Total_Winter</th>\n",
                            "      <th>N_Games</th>\n",
                            "      <th>Gold_Total</th>\n",
                            "      <th>Silver_Total</th>\n",
                            "      <th>Bronze_Total</th>\n",
                            "      <th>Combined total</th>\n",
                            "    </tr>\n",
                            "  </thead>\n",
                            "  <tbody>\n",
                            "    <tr>\n",
                            "      <th>count</th>\n",
                            "      <td>146.000000</td>\n",
                            "      <td>146.000000</td>\n",
                            "      <td>146.000000</td>\n",
                            "      <td>146.000000</td>\n",
                            "      <td>146.000000</td>\n",
                            "      <td>146.000000</td>\n",
                            "      <td>146.000000</td>\n",
                            "      <td>146.000000</td>\n",
                            "      <td>146.000000</td>\n",
                            "      <td>146.000000</td>\n",
                            "      <td>146.000000</td>\n",
                            "      <td>146.000000</td>\n",
                            "      <td>146.000000</td>\n",
                            "      <td>146.000000</td>\n",
                            "      <td>146.000000</td>\n",
                            "    </tr>\n",
                            "    <tr>\n",
                            "      <th>mean</th>\n",
                            "      <td>13.383562</td>\n",
                            "      <td>32.938356</td>\n",
                            "      <td>32.705479</td>\n",
                            "      <td>35.136986</td>\n",
                            "      <td>100.780822</td>\n",
                            "      <td>6.595890</td>\n",
                            "      <td>6.568493</td>\n",
                            "      <td>6.561644</td>\n",
                            "      <td>6.493151</td>\n",
                            "      <td>19.623288</td>\n",
                            "      <td>19.979452</td>\n",
                            "      <td>39.506849</td>\n",
                            "      <td>39.267123</td>\n",
                            "      <td>41.630137</td>\n",
                            "      <td>120.404110</td>\n",
                            "    </tr>\n",
                            "    <tr>\n",
                            "      <th>std</th>\n",
                            "      <td>7.006657</td>\n",
                            "      <td>96.745184</td>\n",
                            "      <td>80.648421</td>\n",
                            "      <td>77.118416</td>\n",
                            "      <td>252.700436</td>\n",
                            "      <td>7.349012</td>\n",
                            "      <td>18.975086</td>\n",
                            "      <td>18.606996</td>\n",
                            "      <td>17.499654</td>\n",
                            "      <td>54.640914</td>\n",
                            "      <td>13.084062</td>\n",
                            "      <td>109.932471</td>\n",
                            "      <td>93.984393</td>\n",
                            "      <td>89.826117</td>\n",
                            "      <td>291.988913</td>\n",
                            "    </tr>\n",
                            "    <tr>\n",
                            "      <th>min</th>\n",
                            "      <td>1.000000</td>\n",
                            "      <td>0.000000</td>\n",
                            "      <td>0.000000</td>\n",
                            "      <td>0.000000</td>\n",
                            "      <td>0.000000</td>\n",
                            "      <td>0.000000</td>\n",
                            "      <td>0.000000</td>\n",
                            "      <td>0.000000</td>\n",
                            "      <td>0.000000</td>\n",
                            "      <td>0.000000</td>\n",
                            "      <td>1.000000</td>\n",
                            "      <td>0.000000</td>\n",
                            "      <td>0.000000</td>\n",
                            "      <td>0.000000</td>\n",
                            "      <td>1.000000</td>\n",
                            "    </tr>\n",
                            "    <tr>\n",
                            "      <th>25%</th>\n",
                            "      <td>8.000000</td>\n",
                            "      <td>0.000000</td>\n",
                            "      <td>1.000000</td>\n",
                            "      <td>1.000000</td>\n",
                            "      <td>2.000000</td>\n",
                            "      <td>0.000000</td>\n",
                            "      <td>0.000000</td>\n",
                            "      <td>0.000000</td>\n",
                            "      <td>0.000000</td>\n",
                            "      <td>0.000000</td>\n",
                            "      <td>11.000000</td>\n",
                            "      <td>0.000000</td>\n",
                            "      <td>1.000000</td>\n",
                            "      <td>1.000000</td>\n",
                            "      <td>2.250000</td>\n",
                            "    </tr>\n",
                            "    <tr>\n",
                            "      <th>50%</th>\n",
                            "      <td>13.000000</td>\n",
                            "      <td>3.000000</td>\n",
                            "      <td>4.000000</td>\n",
                            "      <td>6.000000</td>\n",
                            "      <td>12.000000</td>\n",
                            "      <td>5.000000</td>\n",
                            "      <td>0.000000</td>\n",
                            "      <td>0.000000</td>\n",
                            "      <td>0.000000</td>\n",
                            "      <td>0.000000</td>\n",
                            "      <td>15.000000</td>\n",
                            "      <td>3.000000</td>\n",
                            "      <td>4.000000</td>\n",
                            "      <td>6.500000</td>\n",
                            "      <td>12.000000</td>\n",
                            "    </tr>\n",
                            "    <tr>\n",
                            "      <th>75%</th>\n",
                            "      <td>18.000000</td>\n",
                            "      <td>23.000000</td>\n",
                            "      <td>26.750000</td>\n",
                            "      <td>28.750000</td>\n",
                            "      <td>85.250000</td>\n",
                            "      <td>10.000000</td>\n",
                            "      <td>0.750000</td>\n",
                            "      <td>1.750000</td>\n",
                            "      <td>1.000000</td>\n",
                            "      <td>4.750000</td>\n",
                            "      <td>26.000000</td>\n",
                            "      <td>24.500000</td>\n",
                            "      <td>28.000000</td>\n",
                            "      <td>29.000000</td>\n",
                            "      <td>87.750000</td>\n",
                            "    </tr>\n",
                            "    <tr>\n",
                            "      <th>max</th>\n",
                            "      <td>27.000000</td>\n",
                            "      <td>976.000000</td>\n",
                            "      <td>757.000000</td>\n",
                            "      <td>666.000000</td>\n",
                            "      <td>2399.000000</td>\n",
                            "      <td>22.000000</td>\n",
                            "      <td>118.000000</td>\n",
                            "      <td>111.000000</td>\n",
                            "      <td>100.000000</td>\n",
                            "      <td>329.000000</td>\n",
                            "      <td>49.000000</td>\n",
                            "      <td>1072.000000</td>\n",
                            "      <td>859.000000</td>\n",
                            "      <td>750.000000</td>\n",
                            "      <td>2681.000000</td>\n",
                            "    </tr>\n",
                            "  </tbody>\n",
                            "</table>\n",
                            "</div>"
                        ]
                    },
                    "metadata": {},
                    "execution_count": 31
                }
            ],
            "metadata": {}
        },
        {
            "cell_type": "markdown",
            "source": [
                "# VALIDACIONES"
            ],
            "metadata": {}
        },
        {
            "cell_type": "markdown",
            "source": [
                "Con los cambios realizados procedemos a realizar validaciones para verificar la veracidad del dataset."
            ],
            "metadata": {}
        },
        {
            "cell_type": "code",
            "execution_count": 32,
            "source": [
                "dfprueba.columns"
            ],
            "outputs": [
                {
                    "output_type": "execute_result",
                    "data": {
                        "text/plain": [
                            "Index(['Pais', 'Codigo', 'N_Summer', 'Gold_Summer', 'Silver_Summer',\n",
                            "       'Bronze_Summer', 'Total_Summer', 'N_Winter', 'Gold_Winter',\n",
                            "       'Silver_Winter', 'Bronze_Winter', 'Total_Winter', 'N_Games',\n",
                            "       'Gold_Total', 'Silver_Total', 'Bronze_Total', 'Combined total'],\n",
                            "      dtype='object')"
                        ]
                    },
                    "metadata": {},
                    "execution_count": 32
                }
            ],
            "metadata": {}
        },
        {
            "cell_type": "markdown",
            "source": [
                "Validacion del numero de juegos:\r\n",
                "\r\n",
                "La siguiente validacion muestra que la suma del nùmero de juegos realizados en el verano y el nùmero de juegos realizados en inviernos debe ser igual al nùmero total de juegos en los olimpicos para cada uno de los paises."
            ],
            "metadata": {}
        },
        {
            "cell_type": "code",
            "execution_count": 33,
            "source": [
                "Validacion_N_Juegos = dfprueba['N_Summer'] + dfprueba['N_Winter'] == dfprueba['N_Games']"
            ],
            "outputs": [],
            "metadata": {}
        },
        {
            "cell_type": "markdown",
            "source": [
                "La variable 'Validacion_N_Juegos' muesta una tabla con valores True o False que determinan si es correcta o no la condicion. Se realiza la suma de los valores y debe ser igual a 147, ya que es el nùmero de filas que contiene el dataset."
            ],
            "metadata": {}
        },
        {
            "cell_type": "code",
            "execution_count": 34,
            "source": [
                "Validacion_N_Juegos.sum()"
            ],
            "outputs": [
                {
                    "output_type": "execute_result",
                    "data": {
                        "text/plain": [
                            "147"
                        ]
                    },
                    "metadata": {},
                    "execution_count": 34
                }
            ],
            "metadata": {}
        },
        {
            "cell_type": "markdown",
            "source": [
                "Validacion de medallas obtenidas en verano para cada pais."
            ],
            "metadata": {}
        },
        {
            "cell_type": "code",
            "execution_count": 35,
            "source": [
                "Validacion_Medals_Summer = dfprueba[['Gold_Summer', 'Silver_Summer',\r\n",
                "       'Bronze_Summer']].sum(axis=1) == dfprueba['Total_Summer']\r\n",
                "\r\n",
                "Validacion_Medals_Summer.sum()"
            ],
            "outputs": [
                {
                    "output_type": "execute_result",
                    "data": {
                        "text/plain": [
                            "147"
                        ]
                    },
                    "metadata": {},
                    "execution_count": 35
                }
            ],
            "metadata": {}
        },
        {
            "cell_type": "markdown",
            "source": [
                "Validacion de medallas obtenidas en invierno para cada pais."
            ],
            "metadata": {}
        },
        {
            "cell_type": "code",
            "execution_count": 36,
            "source": [
                "Validacion_Medals_Winter = dfprueba[['Gold_Winter', 'Silver_Winter',\r\n",
                "       'Bronze_Winter']].sum(axis=1) == dfprueba['Total_Winter']\r\n",
                "\r\n",
                "Validacion_Medals_Winter.sum()"
            ],
            "outputs": [
                {
                    "output_type": "execute_result",
                    "data": {
                        "text/plain": [
                            "147"
                        ]
                    },
                    "metadata": {},
                    "execution_count": 36
                }
            ],
            "metadata": {}
        },
        {
            "cell_type": "markdown",
            "source": [
                "Validacion del total de medallas para cada pais."
            ],
            "metadata": {}
        },
        {
            "cell_type": "code",
            "execution_count": 37,
            "source": [
                "Validacion_Total_Medals = dfprueba['Total_Summer'] + dfprueba['Total_Winter'] == dfprueba['Combined total']\r\n",
                "Validacion_Total_Medals.sum()"
            ],
            "outputs": [
                {
                    "output_type": "execute_result",
                    "data": {
                        "text/plain": [
                            "147"
                        ]
                    },
                    "metadata": {},
                    "execution_count": 37
                }
            ],
            "metadata": {}
        },
        {
            "cell_type": "markdown",
            "source": [
                "Validacion de medallas de oro obtenidas para cada pais."
            ],
            "metadata": {}
        },
        {
            "cell_type": "code",
            "execution_count": 38,
            "source": [
                "Validacion_Total_Golds = dfprueba['Gold_Summer'] + dfprueba['Gold_Winter'] == dfprueba['Gold_Total']\r\n",
                "Validacion_Total_Golds.sum()"
            ],
            "outputs": [
                {
                    "output_type": "execute_result",
                    "data": {
                        "text/plain": [
                            "147"
                        ]
                    },
                    "metadata": {},
                    "execution_count": 38
                }
            ],
            "metadata": {}
        },
        {
            "cell_type": "markdown",
            "source": [
                "Validacion de medallas de plata obtenidas para cada pais."
            ],
            "metadata": {}
        },
        {
            "cell_type": "code",
            "execution_count": 39,
            "source": [
                "Validacion_Total_Silver = dfprueba['Silver_Summer'] + dfprueba['Silver_Winter'] == dfprueba['Silver_Total']\r\n",
                "Validacion_Total_Silver.sum()"
            ],
            "outputs": [
                {
                    "output_type": "execute_result",
                    "data": {
                        "text/plain": [
                            "147"
                        ]
                    },
                    "metadata": {},
                    "execution_count": 39
                }
            ],
            "metadata": {}
        },
        {
            "cell_type": "markdown",
            "source": [
                "Validacion de medallas de bronce obtenidas para cada pais."
            ],
            "metadata": {}
        },
        {
            "cell_type": "code",
            "execution_count": 40,
            "source": [
                "Validacion_Total_Bronze = dfprueba['Bronze_Summer'] + dfprueba['Bronze_Winter'] == dfprueba['Bronze_Total']\r\n",
                "Validacion_Total_Bronze.sum()"
            ],
            "outputs": [
                {
                    "output_type": "execute_result",
                    "data": {
                        "text/plain": [
                            "147"
                        ]
                    },
                    "metadata": {},
                    "execution_count": 40
                }
            ],
            "metadata": {}
        },
        {
            "cell_type": "markdown",
            "source": [
                "Validacion de todas las columnas que representan medallas:\r\n",
                "Aqui se realiza la suma todas las filas por cada columna y se compara con la ultima fila que representa el total de medallas de cada columna."
            ],
            "metadata": {}
        },
        {
            "cell_type": "code",
            "execution_count": 41,
            "source": [
                "Validacion_Medals_Totals = dfprueba[['Gold_Summer', 'Silver_Summer', 'Bronze_Summer',\r\n",
                "       'Total_Summer', 'Gold_Winter', 'Silver_Winter',\r\n",
                "       'Bronze_Winter', 'Total_Winter', 'Gold_Total',\r\n",
                "       'Silver_Total', 'Bronze_Total', 'Combined total']][0:146].sum() == dfprueba[['Gold_Summer', 'Silver_Summer', 'Bronze_Summer',\r\n",
                "       'Total_Summer', 'Gold_Winter', 'Silver_Winter',\r\n",
                "       'Bronze_Winter', 'Total_Winter','Gold_Total',\r\n",
                "       'Silver_Total', 'Bronze_Total', 'Combined total']].loc[146]"
            ],
            "outputs": [],
            "metadata": {}
        },
        {
            "cell_type": "markdown",
            "source": [
                "Como vemos la validaciones es correcta y se cumple la condicion."
            ],
            "metadata": {}
        },
        {
            "cell_type": "code",
            "execution_count": 42,
            "source": [
                "Validacion_Medals_Totals"
            ],
            "outputs": [
                {
                    "output_type": "execute_result",
                    "data": {
                        "text/plain": [
                            "Gold_Summer       True\n",
                            "Silver_Summer     True\n",
                            "Bronze_Summer     True\n",
                            "Total_Summer      True\n",
                            "Gold_Winter       True\n",
                            "Silver_Winter     True\n",
                            "Bronze_Winter     True\n",
                            "Total_Winter      True\n",
                            "Gold_Total        True\n",
                            "Silver_Total      True\n",
                            "Bronze_Total      True\n",
                            "Combined total    True\n",
                            "dtype: bool"
                        ]
                    },
                    "metadata": {},
                    "execution_count": 42
                }
            ],
            "metadata": {}
        },
        {
            "cell_type": "markdown",
            "source": [
                "Con todo lo realizado anterior vemos que el dataset es veridico y se exporta para poder realizar un proximo analisis de los datos."
            ],
            "metadata": {}
        },
        {
            "cell_type": "code",
            "execution_count": 53,
            "source": [
                "dfprueba.to_csv('3 - Real_Olympics_Dataset.csv')"
            ],
            "outputs": [],
            "metadata": {}
        }
    ],
    "metadata": {
        "orig_nbformat": 4,
        "language_info": {
            "name": "python",
            "version": "3.7.6",
            "mimetype": "text/x-python",
            "codemirror_mode": {
                "name": "ipython",
                "version": 3
            },
            "pygments_lexer": "ipython3",
            "nbconvert_exporter": "python",
            "file_extension": ".py"
        },
        "kernelspec": {
            "name": "python3",
            "display_name": "Python 3.7.6 64-bit"
        },
        "interpreter": {
            "hash": "c0e511aeee49d7f530e3d7b46165066f8c04b3b2ae4913cc121f1f23a9402df4"
        }
    },
    "nbformat": 4,
    "nbformat_minor": 2
}